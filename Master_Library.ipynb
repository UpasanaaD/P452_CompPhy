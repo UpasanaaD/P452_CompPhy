{
 "cells": [
  {
   "cell_type": "markdown",
   "id": "55e7cebf",
   "metadata": {},
   "source": [
    "# Finding roots of non-linear equations"
   ]
  },
  {
   "cell_type": "markdown",
   "id": "60e804a5",
   "metadata": {},
   "source": [
    "1. Bisection"
   ]
  },
  {
   "cell_type": "code",
   "execution_count": 16,
   "id": "101a172f",
   "metadata": {},
   "outputs": [],
   "source": [
    "def bracketing(f1,a,b):\n",
    "    if abs(f1(a))<abs(f1(b)):\n",
    "        a=a-0.5*(b-a)\n",
    "    if abs(f1(a))>abs(f1(b)):\n",
    "        b=b+0.5*(b-a)\n",
    "    return a,b\n",
    "\n",
    "\n",
    "def bisection(f,a0,b0):\n",
    "    n=0\n",
    "    root=[]\n",
    "    e=0.000001\n",
    "    while abs(b0-a0)>e and (f(a0)>e or f(b0)>e):\n",
    "        c0=(a0+b0)/2\n",
    "        if f(c0)*f(a0)<0:\n",
    "            b0=c0\n",
    "        elif f(c0)*f(b0)<0:\n",
    "            a0=c0\n",
    "        n+=1\n",
    "        root.append((a0+b0)/2)\n",
    "    return root,n"
   ]
  },
  {
   "cell_type": "markdown",
   "id": "08306f09",
   "metadata": {},
   "source": [
    "2. Regula Falsi"
   ]
  },
  {
   "cell_type": "code",
   "execution_count": 17,
   "id": "78d49c70",
   "metadata": {},
   "outputs": [],
   "source": [
    "def RegulaFalsi(f,a0,b0):\n",
    "    c0=0\n",
    "    n2=0\n",
    "    c=[]\n",
    "    e=0.000001\n",
    "    while abs(b0-a0)>e and f(a0)>e or f(b0)>e:\n",
    "        c_prev=c0\n",
    "        c0=b0-(b0-a0)*f(b0)/(f(b0)-f(a0))\n",
    "        if f(a0)*f(c0)<0:\n",
    "            b0=c0\n",
    "            if abs(c_prev-c0)<e:\n",
    "                break\n",
    "        if f(b0)*f(c0)<0:\n",
    "            a0=c0\n",
    "            if abs(c_prev-c0)<e:\n",
    "                break\n",
    "        n2+=1\n",
    "        c.append(c0)\n",
    "    return c,n2"
   ]
  },
  {
   "cell_type": "markdown",
   "id": "ed512d57",
   "metadata": {},
   "source": [
    "3. Newton Raphson"
   ]
  },
  {
   "cell_type": "code",
   "execution_count": 18,
   "id": "07c65746",
   "metadata": {},
   "outputs": [],
   "source": [
    "def df(f,x):\n",
    "    h=0.001\n",
    "    return (f(x+h)-f(x-h))/(2*h)\n",
    "\n",
    "def NewtonRaphson(f,x0):\n",
    "    x,e,n=1.5,0.000001,0\n",
    "    while abs(x-x0)>e or f(x)>e:\n",
    "        x0=x\n",
    "        x=x0-f(x0)/df(f,x0)\n",
    "        n+=1\n",
    "    return(x,n)"
   ]
  },
  {
   "cell_type": "markdown",
   "id": "6e7c7bf7",
   "metadata": {},
   "source": [
    "4. Fixed Point"
   ]
  },
  {
   "cell_type": "code",
   "execution_count": 19,
   "id": "22b289cd",
   "metadata": {},
   "outputs": [],
   "source": [
    "#Fixed Point for single variable\n",
    "def FixedPoint_single(x_k):\n",
    "    x_k1, e = 1, 0.00001\n",
    "    g = x_k\n",
    "    while abs(x_k1 - x_k)/abs(x_k1)>e:\n",
    "        g = f1(x_k1) + x_k1\n",
    "        x_k, x_k1 = x_k1, g\n",
    "        #print(g)\n",
    "    return g"
   ]
  },
  {
   "cell_type": "code",
   "execution_count": 20,
   "id": "38dc8ca6",
   "metadata": {},
   "outputs": [
    {
     "name": "stdout",
     "output_type": "stream",
     "text": [
      "([2.0000004445530273, 2.9999996370950437], 13)\n"
     ]
    }
   ],
   "source": [
    "#Fixed Point for multi-variable\n",
    "def g1(varlist):\n",
    "    return (10 - varlist[0]*varlist[1])**(1/2)\n",
    "def g2(varlist):\n",
    "    return ((57-varlist[1])/(3*varlist[0]))**(1/2)\n",
    "\n",
    "def FixedPoint_multi(glist,x0list,tol):\n",
    "\n",
    "    if len(glist)!=len(x0list):\n",
    "        raise IndexError(\"The number of functions and initial guesses are not equal\")\n",
    "    else:\n",
    "        for i in range(len(glist)):\n",
    "            x0list[i] = (glist[i](x0list))\n",
    "        step=1\n",
    "        flag=1\n",
    "        while flag==1:\n",
    "            if step>100:\n",
    "                print(\"The roots are not converging\")\n",
    "                return x0list,step\n",
    "            else:\n",
    "                temp = x0list[:]\n",
    "\n",
    "                for i in range(len(glist)):\n",
    "                    x0list[i] = (glist[i](x0list))\n",
    "                step+=1\n",
    "\n",
    "            for j in range(len(x0list)):\n",
    "                if abs(temp[j] - x0list[j]) / x0list[j] < tol:\n",
    "                    flag = 0\n",
    "                else:\n",
    "                    flag = 1\n",
    "                    break\n",
    "        return x0list,step\n",
    "\n",
    "print(FixedPoint_multi([g1,g2],[1.5,3.5],1e-6))  "
   ]
  },
  {
   "cell_type": "markdown",
   "id": "6e5be4d2",
   "metadata": {},
   "source": [
    "5. Newton Raphson for Multivariables"
   ]
  },
  {
   "cell_type": "code",
   "execution_count": 29,
   "id": "d00cf627",
   "metadata": {},
   "outputs": [],
   "source": [
    "def newton_raphson_multivariable(f, J, x0, tol):\n",
    "    \"\"\"This function is used to find the root of a given function using Newton-Raphson method.\n",
    "    \n",
    "    Parameters:\n",
    "    - f: The system of functions. f \n",
    "    - J: The Jacobian matrix of f.\n",
    "    - x0: The initial guess.\n",
    "    - tol: The tolerance.\n",
    "    \n",
    "    Returns:\n",
    "    - x: The root of the system of functions.\n",
    "    - iter: The number of iterations.\n",
    "    \"\"\"\n",
    "    x = x0\n",
    "    iter = 0\n",
    "    while True:\n",
    "        x = x - np.matmul(np.linalg.inv(J(x)), f(x))\n",
    "        iter += 1\n",
    "        if np.linalg.norm(f(x)) < tol:\n",
    "            break\n",
    "    return x, iter\n",
    "\n",
    "def jacobian(f, x, h=1e-5):\n",
    "    \"\"\"This function is used to find the Jacobian matrix of a system of functions.\n",
    "    \n",
    "    Parameters:\n",
    "    - f: The system of functions.\n",
    "    - x: The point at which the Jacobian matrix is to be evaluated.\n",
    "    - h: The step size.\n",
    "    \n",
    "    Returns:\n",
    "    - J: The Jacobian matrix of f.\n",
    "    \"\"\"\n",
    "    n = len(f(x))\n",
    "    m = len(x)\n",
    "    J = np.zeros((n, m))\n",
    "    for i in range(n):\n",
    "        for j in range(m):\n",
    "            x1 = x.copy()\n",
    "            x2 = x.copy()\n",
    "            x1[j] += h\n",
    "            x2[j] -= h\n",
    "            J[i, j] = (f(x1)[i] - f(x2)[i]) / (2 * h)\n",
    "    return J\n",
    "\n",
    "# Example usage:\n",
    "# f = lambda x: np.array([x[0]**2 + x[1]**2 - 1, x[0] - x[1]])\n",
    "# J = lambda x: np.array([[2*x[0], 2*x[1]], [1, -1]])\n",
    "# x0 = np.array([0.5, 0.5])\n",
    "# tol = 1e-5\n",
    "# root, iter = newton_raphson_multivariable(f, J, x0, tol)\n",
    "# solution should be [0.70710678, 0.70710678]\n",
    "# print(root, iter)"
   ]
  },
  {
   "cell_type": "markdown",
   "id": "e4dfd435",
   "metadata": {},
   "source": [
    "# Numerical Integration"
   ]
  },
  {
   "cell_type": "markdown",
   "id": "415ca4cd",
   "metadata": {},
   "source": [
    "1. Midpoint method"
   ]
  },
  {
   "cell_type": "code",
   "execution_count": 21,
   "id": "a083ab0b",
   "metadata": {},
   "outputs": [],
   "source": [
    "def midmethod(N,b,a,f):\n",
    "    h=(b-a)/N\n",
    "    x_i=[0 for i in range(N)]\n",
    "    for i in range(N):\n",
    "        x_i[i]=((a+h*i)+(a+h*(i+1)))/2\n",
    "    sum=0\n",
    "    for i in range(N):\n",
    "        sum=sum+h*f((x_i[i]))\n",
    "    return sum"
   ]
  },
  {
   "cell_type": "markdown",
   "id": "03c0f351",
   "metadata": {},
   "source": [
    "2. Trapezoidal method"
   ]
  },
  {
   "cell_type": "code",
   "execution_count": 22,
   "id": "492d3ffa",
   "metadata": {},
   "outputs": [],
   "source": [
    "def trapezmethod(N,b,a,f):\n",
    "    h=(b-a)/N\n",
    "    x_i=[0 for i in range(N+1)]\n",
    "    for i in range(N+1):\n",
    "        x_i[i]=a+i*h\n",
    "    sum=0\n",
    "    for i in range(N+1):\n",
    "        if i==0 or i==N:\n",
    "            sum = sum + 0.5*h*f((x_i[i]))\n",
    "        else:\n",
    "            sum = sum+ h*f((x_i[i]))\n",
    "    return sum"
   ]
  },
  {
   "cell_type": "markdown",
   "id": "4d74e29d",
   "metadata": {},
   "source": [
    "3. Simpson's Rule"
   ]
  },
  {
   "cell_type": "code",
   "execution_count": 23,
   "id": "14174866",
   "metadata": {},
   "outputs": [],
   "source": [
    "def SimpMeth(N,b,a,f):\n",
    "    interval = (b-a)/N\n",
    "    x_i=[0 for i in range(N+1)]\n",
    "    \n",
    "    for i in range(0,N+1,2):\n",
    "        x_i[i]=a+i*interval\n",
    "        \n",
    "    for i in range(1,N,2):\n",
    "        x_i[i]=(x_i[i-1] + x_i[i+1])/2\n",
    "    \n",
    "    h=(x_i[2]-x_i[0])/2\n",
    "    sum=0\n",
    "    for i in range(N+1):\n",
    "        if i==0 or i==N:\n",
    "            sum = sum + (h*f((x_i[i])))/3\n",
    "        elif i%2==0:\n",
    "            sum = sum + (2*h*f((x_i[i])))/3\n",
    "        else:\n",
    "            sum = sum + (4*h*f((x_i[i])))/3\n",
    "    return sum"
   ]
  },
  {
   "cell_type": "markdown",
   "id": "26875151",
   "metadata": {},
   "source": [
    "4. Gaussian Quadrature"
   ]
  },
  {
   "cell_type": "code",
   "execution_count": 24,
   "id": "1372828f",
   "metadata": {},
   "outputs": [],
   "source": [
    "#Derivative of Legendre Polynom\n",
    "def Pn_dr(x,n):\n",
    "    if n == 0:\n",
    "        return 0\n",
    "    elif n == 1:\n",
    "            return 1\n",
    "    else:\n",
    "        return (n*(Pn(x,n-1)-x*Pn(x,n)))/(1-x**2)\n",
    "\n",
    "#Newton-Raphson for finding roots of legendre polynomial\n",
    "def NewtonRaphson(f,x0,num,x):\n",
    "    e=0.000001\n",
    "    while abs(x-x0)>e or f(x,num)>e:\n",
    "        x0=x\n",
    "        x=x0-f(x0,num)/Pn_dr(x0,num)\n",
    "    return x"
   ]
  },
  {
   "cell_type": "code",
   "execution_count": 25,
   "id": "67ba28e9",
   "metadata": {},
   "outputs": [],
   "source": [
    "#Gaussian Quadrature Method\n",
    "def Pn(x,n): #defining Legendre Polynomial\n",
    "    if n == 0:\n",
    "        return 1\n",
    "    elif n == 1:\n",
    "        return x\n",
    "    else:\n",
    "        return ((2*n-1)*x*Pn(x,n-1)-(n-1)*Pn(x,n-2))/n   \n",
    "    \n",
    "#finds roots of Legendre Polynomial\n",
    "def Pn_roots(num):\n",
    "    roots = []\n",
    "    for i in range(1, num + 1):\n",
    "        guess = np.cos((2*i - 1) * np.pi / (2 * num))\n",
    "        guess1 = guess + 2\n",
    "        result = NewtonRaphson(Pn, guess, num, guess1)\n",
    "        if result != 0:\n",
    "            roots.append(result)\n",
    "    return roots\n",
    "\n",
    "#finds weight\n",
    "def weight(n):\n",
    "    roots=Pn_roots(n)\n",
    "    weights=[]\n",
    "    for i in range(n):\n",
    "        w=2/((1-roots[i]**2)*(Pn_dr(roots[i],n))**2)\n",
    "        weights.append(w)\n",
    "    return weights\n",
    "\n",
    "def GaussianQuad(deg,b,a):\n",
    "    sum = 0\n",
    "    weights=weight(deg)\n",
    "    roots=Pn_roots(deg)\n",
    "    for i in range(deg):\n",
    "        y=(((b-a)*roots[i])/2)+((b+a)/2)\n",
    "        wf=weights[i]*f2(y)\n",
    "        sum+=wf\n",
    "    val=((b-a)*sum)/2\n",
    "    return val"
   ]
  },
  {
   "cell_type": "markdown",
   "id": "3ac29d7d",
   "metadata": {},
   "source": [
    "# Diff eqn - ODE"
   ]
  },
  {
   "cell_type": "markdown",
   "id": "9ac60eed",
   "metadata": {},
   "source": [
    "1. Semi implicit euler"
   ]
  },
  {
   "cell_type": "code",
   "execution_count": null,
   "id": "3d3ef389",
   "metadata": {},
   "outputs": [],
   "source": [
    "def semi_implicit_euler_solve(f,g,x0,v0,t0,t_max,step_size):\n",
    "        '''\n",
    "    # Semi-Implicit Euler Method\n",
    "    ## Parameters:\n",
    "    - f: f(v,t):\n",
    "        dx/dt = f(v,t)\n",
    "    - g: g(x,t)\n",
    "        dv/dt = g(x,t)\n",
    "    - x0: initial position: x(t0) = x0\n",
    "    - v0: initial velocity: v(t0) = v0\n",
    "    - t0: initial time\n",
    "    - t_max: final time:\n",
    "        The to which the Solution is to be calculated\n",
    "    - step: The size of the interval\n",
    "    ## Returns:\n",
    "    - xlist: List of x values\n",
    "    - vlist: List of v values\n",
    "    - tlist: List of t values\n",
    "    The function returns a 3-tuple of lists containing the x, v and t values respectively\n",
    "    '''\n",
    "    h=step_size\n",
    "    vlist=[]\n",
    "    xlist=[]\n",
    "    tlist=[]\n",
    "    x=x0\n",
    "    v=v0\n",
    "    t=t0\n",
    "    while t<=t_max:\n",
    "        xlist.append(x)\n",
    "        vlist.append(v)\n",
    "        tlist.append(t)\n",
    "        v=v + (h*g(x,t))\n",
    "        x=x + (h*f(v,t))\n",
    "        t=t+h\n",
    "    return xlist,vlist,tlist "
   ]
  },
  {
   "cell_type": "code",
   "execution_count": null,
   "id": "19a47397",
   "metadata": {},
   "outputs": [],
   "source": [
    "def semi_implicit(x,v,dt, t_max):\n",
    "    t = 0.0\n",
    "    while t<=t_max:\n",
    "        v = v + dt*g(x,t)\n",
    "        x = x + dt*f(v,t)\n",
    "        t += dt\n",
    "    return v,x"
   ]
  },
  {
   "cell_type": "markdown",
   "id": "dc85a535",
   "metadata": {},
   "source": [
    "2. Verlet method"
   ]
  },
  {
   "cell_type": "code",
   "execution_count": 26,
   "id": "58d546b2",
   "metadata": {},
   "outputs": [
    {
     "name": "stdout",
     "output_type": "stream",
     "text": [
      "Time for Verlet integration is: 1.0000000000000007 and vel: 9.949999999902841\n"
     ]
    }
   ],
   "source": [
    "#Verlet\n",
    "def verlet(x, a, dt):\n",
    "    prev_x = x\n",
    "    time = 0.0\n",
    "\n",
    "    while (x > 0):\n",
    "        time += dt\n",
    "        temp_x = x\n",
    "        x = x * 2 - prev_x + a * dt * dt\n",
    "        vel = (prev_x + temp_x)/(2*dt)\n",
    "        prev_x = temp_x\n",
    "    return time, vel\n",
    "\n",
    "time, vel = verlet(5.0, -10.0, 0.01);\n",
    "print(\"Time for Verlet integration is:\",time, \"and vel:\", vel)"
   ]
  },
  {
   "cell_type": "markdown",
   "id": "d746f95f",
   "metadata": {},
   "source": [
    "3. Velocity Verlet"
   ]
  },
  {
   "cell_type": "code",
   "execution_count": 27,
   "id": "9118d6ac",
   "metadata": {},
   "outputs": [
    {
     "name": "stdout",
     "output_type": "stream",
     "text": [
      "Time for Velocity Verlet integration is: 1.0100000000000007 and vel: -10.09999999999998\n"
     ]
    }
   ],
   "source": [
    "def velocity_verlet(x, a, dt):\n",
    "    prev_x = x\n",
    "    time = 0.0\n",
    "    vel = 0.0\n",
    "    while (x > 0.0):\n",
    "        time += dt\n",
    "        x += vel * dt + 0.5 * a * dt * dt;\n",
    "        vel += a * dt;\n",
    "    return time, vel\n",
    "\n",
    "time, vel = velocity_verlet(5.0, -10.0, 0.01);\n",
    "print(\"Time for Velocity Verlet integration is:\",time, \"and vel:\", vel)"
   ]
  },
  {
   "cell_type": "markdown",
   "id": "556095f6",
   "metadata": {},
   "source": [
    "4. Leapfrog"
   ]
  },
  {
   "cell_type": "code",
   "execution_count": null,
   "id": "77b3b6de",
   "metadata": {},
   "outputs": [],
   "source": [
    "#not complete\n",
    "def leapfrog(F, x0, p0, dt, num_steps):\n",
    "   \n",
    "    x_values = np.zeros(num_steps + 2)\n",
    "    p_values = np.zeros(num_steps + 2)\n",
    "    t_values = np.zeros(num_steps + 2)\n",
    "\n",
    "    x_values[0] = x0\n",
    "    p_values[0] = p0\n",
    "    t_values[0] = 0.0\n",
    "\n",
    "    for i in range(num_steps):\n",
    "        # Leapfrog integration steps\n",
    "        p_half = p_values[i] + 0.5 * dt * F(x_values[i])\n",
    "        x_values[i + 1] = x_values[i] + dt * p_half\n",
    "        p_values[i + 1] = p_half + dt * F(x_values[i + 1])\n",
    "        t_values[i + 1] = t_values[i] + dt\n",
    "    \n",
    "    #final half steps to get to end of trajectory\n",
    "    p_half = p_values[i] + 0.5 * dt * F(x_values[i])\n",
    "    x_values[i+1] = x_values[i] + p_half\n",
    "    p_values[i+1] = p_half + 0.5*dt*\n",
    "    \n",
    "\n",
    "    return x_values, p_values, t_values"
   ]
  },
  {
   "cell_type": "markdown",
   "id": "d675452c",
   "metadata": {},
   "source": [
    "# Diff eqn - PDE"
   ]
  },
  {
   "cell_type": "markdown",
   "id": "2a61d82d",
   "metadata": {},
   "source": [
    "1. Finite difference methods"
   ]
  },
  {
   "cell_type": "code",
   "execution_count": 31,
   "id": "efd1627e",
   "metadata": {},
   "outputs": [],
   "source": [
    "def PDEExplicit(N,nx,nt,lx,lt):\n",
    "    #N=time step\n",
    "    hx, ht = lx/nx, lt/nt\n",
    "    a = ht/hx**2\n",
    "\n",
    "    V0, V1 = [0], [0]\n",
    "    for i in range(nx+1):\n",
    "        V1.append(0)\n",
    "    for i in range(nx+1):\n",
    "        if i==10:\n",
    "            V0.append(300)\n",
    "        else:\n",
    "            V0.append(0)\n",
    "\n",
    "    #as its a sparse matrix we don't create the whole matrix  \n",
    "    for j in range(N):\n",
    "        for i in range(nx+1):\n",
    "            if i==0:\n",
    "                V1[i]=(1-2*a)*V0[i] + (a*V0[i+1])\n",
    "            elif i==(nx):\n",
    "                V1[i]=(a*V0[i-1]) + (1-2*a)*V0[i]\n",
    "            else:\n",
    "                V1[i]=(a*V0[i-1]) + (1-2*a)*V0[i] + (a*V0[i+1])\n",
    "        \n",
    "        for i in range(nx+1):\n",
    "            V0[i] = V1[i]\n",
    "            \n",
    "    if N==0:\n",
    "        return V0\n",
    "    else:\n",
    "        return V1"
   ]
  },
  {
   "cell_type": "code",
   "execution_count": null,
   "id": "0ef1b0c2",
   "metadata": {},
   "outputs": [],
   "source": []
  },
  {
   "cell_type": "markdown",
   "id": "1c3a01eb",
   "metadata": {},
   "source": [
    "2. Du Fort and Frankel"
   ]
  },
  {
   "cell_type": "code",
   "execution_count": null,
   "id": "4973b062",
   "metadata": {},
   "outputs": [],
   "source": [
    "def du_fort_frankel_solve(g: callable,a: callable,b: callable,x_i: float,x_f: float,t_i: float,t_f: float,Nx: int, Nt: int):\n",
    "    '''\n",
    "    # Du Fort Frankel Method\n",
    "    for solving the heat equation of the form u_xx = k*u_t\n",
    "    ## Parameters\n",
    "    - g: Initial condition function u(x,t=0) = g(x)\n",
    "    - a: Boundary condition function u(x=0,t) = a(t)\n",
    "    - b: Boundary condition function u(x=x_m,t) = b(t)\n",
    "    - x_i: Initial value of x\n",
    "    - x_f: Final value of x\n",
    "    - t_i: Initial value of t\n",
    "    - t_f: Final value of t\n",
    "    - Nx: Number of steps to divide the interval [x_i,x_f]\n",
    "    - Nt: Number of steps to divide the interval [t_i,t_f]\n",
    "    ## Returns\n",
    "    - ulist: List of List of u values\n",
    "    - x: List of x values\n",
    "    '''\n",
    "    hx = (x_f - x_i) / Nx\n",
    "    ht = (t_f - t_i) / Nt\n",
    "    alpha = ht / (hx**2)\n",
    "    x=[(x_i + i*hx) for i in range(0,Nx+1)]\n",
    "    ulist = np.zeros((Nx+1,Nt+1))\n",
    "    for i in range(Nx+1):\n",
    "        ulist[i][0] = g(x[i])\n",
    "    for i in range(Nt+1):\n",
    "        ulist[0][i] = a(t_i + i*ht)\n",
    "        ulist[Nx][i] = b(t_i + i*ht)\n",
    "\n",
    "    a1 = (1 - 2*alpha)/(1 + 2*alpha)\n",
    "    a2 = 2*alpha/(1 + 2*alpha)\n",
    "    return ulist"
   ]
  },
  {
   "cell_type": "markdown",
   "id": "8195da43",
   "metadata": {},
   "source": [
    "3. Crank-Nicolson"
   ]
  },
  {
   "cell_type": "code",
   "execution_count": null,
   "id": "03e6dcd6",
   "metadata": {},
   "outputs": [],
   "source": [
    "nx = 20\n",
    "nt = 500\n",
    "h = 8 / nx\n",
    "k = 1 / nt\n",
    "r = k / (h * h)\n",
    "time_steps = 500\n",
    "time = np.linspace(0, (time_steps + 0.5) * k, nt+1)\n",
    "x = np.linspace(0, 8.0001, nx+1)\n",
    "\n",
    "u = np.zeros((nx+1, time_steps+1))\n",
    "b = np.zeros(nx-1)\n",
    "\n",
    "#Initialising and specifying boundary conditions\n",
    "for i in range(1, nx):\n",
    "    u[i, 0] = 4 * x[i] - x[i] * x[i] / 2\n",
    "\n",
    "u[0, :] = 0\n",
    "u[nx, :] = 0\n",
    "\n",
    "#creating the matrix (2I + aB and 2I - aB)\n",
    "\n",
    "A = np.zeros((nx-1, nx-1))\n",
    "B = np.zeros((nx-1, nx-1))\n",
    "for i in range(nx-1):\n",
    "    A[i, i] = 1/2 + 2 * r\n",
    "    B[i, i] = 1/2 - 2 * r\n",
    "    if i < nx-2:\n",
    "        A[i, i+1] = -r\n",
    "        A[i+1, i] = -r\n",
    "        B[i, i+1] = r\n",
    "        B[i+1, i] = r\n",
    "\n",
    "# inverse of 2I + aB\n",
    "A_inv = np.linalg.inv(A)\n",
    "\n",
    "for j in range (1,time_steps+1):\n",
    "    b[0]=r*u[0,j-1]+r*u[0,j]\n",
    "    b[nx-2]=r*u[nx,j-1]+r*u[nx,j]\n",
    "    v=np.dot(B,u[1:(nx),j-1])\n",
    "    u[1:(nx),j]=np.dot(A_inv,v+b)\n",
    "    \n",
    "fig, ax = plt.subplots(1,1)\n",
    "X, Y = np.meshgrid(x, time)\n",
    "plt.contourf(X, Y, u.transpose(),cmap=\"inferno\")\n",
    "plt.title(\"Contour plot for given heat equation\")\n",
    "plt.xlabel(\"x\")\n",
    "plt.ylabel(\"time\")\n",
    "plt.colorbar(label=\"Temperature\")\n",
    "plt.show()\n",
    "\n",
    "print(\"Displaying solution of heat equation u at each position (x,time) in tabulated form\")\n",
    "print(\"   x    |  t=0    |  t=0.1    |  t=0.2    |   ...  |   t=end   \")\n",
    "print(\"---------------------------------------------------------------\")\n",
    "for i in range(nx+1):\n",
    "    print(round(x[i],2),\"       \",round(u[i,0],2), \"       \", round(u[i,20],2), \"       \",round(u[i,40],2) , \"    ...    \", round(u[i,-1],2))"
   ]
  },
  {
   "cell_type": "markdown",
   "id": "93f3bd20",
   "metadata": {},
   "source": [
    "4. Laplace eqn"
   ]
  },
  {
   "cell_type": "code",
   "execution_count": null,
   "id": "9157576f",
   "metadata": {},
   "outputs": [],
   "source": [
    "# Parameters\n",
    "Nx = Ny = 6  # Number of grid points in x and y directions\n",
    "Lx = 2\n",
    "Ly = 1  # Domain length\n",
    "dx = dy = Lx / (Nx - 1)  # Grid spacing\n",
    "h = Lx/(Nx+1)\n",
    "\n",
    "# Initialize grid and boundary conditions\n",
    "u = np.zeros((Ny, Nx))  # Initialize grid with zeros\n",
    "\n",
    "for i in range(Nx):\n",
    "    u[i,0] = g(i,0)  # u(x, 0) = x\n",
    "    u[i,Nx-1] = g(i,L)  # u(x, 1) = xe\n",
    "       \n",
    "for j in range(Ny):\n",
    "    u[0 , j] = g(0,j)\n",
    "    u[Ny-1 , j] = g(L,j)\n",
    "\n",
    "x = np.linspace(0, Lx, Nx)\n",
    "y = np.linspace(0, Ly, Ny)\n",
    "X, Y = np.meshgrid(x, y)\n",
    "fig = plt.figure()\n",
    "ax = fig.add_subplot(111, projection='3d')\n",
    "ax.plot_surface(X, Y, u, cmap='viridis')\n",
    "ax.set_xlabel('x')\n",
    "ax.set_ylabel('y')\n",
    "ax.set_zlabel('u')\n",
    "ax.set_title('3D plot of initial conditions')\n",
    "plt.show()\n",
    "    \n",
    "def solve_laplace(u, max_iter=1000, tol=1e-6):\n",
    "    u1 = np.copy(u)\n",
    "    for k in range(max_iter):\n",
    "        u = np.copy(u1)\n",
    "        for i in range(0, Ny-1):\n",
    "            for j in range(0, Nx-1):\n",
    "                u1[i, j] = (0.25) * (u[i+1, j] + u[i-1,j] + u[i,j+1] + u[i,j-1])\n",
    "        if np.max(np.abs(u1 - u)) < tol:\n",
    "            break\n",
    "    return u1\n",
    "\n",
    "# Solve Poisson's equation\n",
    "u = solve_laplace(u)\n",
    "\n",
    "# Plot\n",
    "x = np.linspace(0, Lx, Nx)\n",
    "y = np.linspace(0, Ly, Ny)\n",
    "X, Y = np.meshgrid(x, y)\n",
    "fig = plt.figure()\n",
    "ax = fig.add_subplot(111, projection='3d')\n",
    "ax.plot_surface(X, Y, u, cmap='viridis')\n",
    "ax.set_xlabel('x')\n",
    "ax.set_ylabel('y')\n",
    "ax.set_zlabel('u')\n",
    "ax.set_title('3D plot of Solution of Poisson\\'s equation')\n",
    "plt.show()\n",
    "\n",
    "print(\"Displaying solution u at each position (x,y) in tabulated form\")\n",
    "print(\"x           y               u\")\n",
    "print(\"-------------------------------------\")\n",
    "for i in range(Nx-1):\n",
    "    for j in range(Ny-1):\n",
    "        print(round(x[i],2), \"     \", round(y[j],2), \"     \", u[i,j])"
   ]
  },
  {
   "cell_type": "markdown",
   "id": "ed0bddcd",
   "metadata": {},
   "source": [
    "Wave equation"
   ]
  },
  {
   "cell_type": "code",
   "execution_count": 32,
   "id": "177f0746",
   "metadata": {},
   "outputs": [
    {
     "ename": "NameError",
     "evalue": "name 'np' is not defined",
     "output_type": "error",
     "traceback": [
      "\u001b[1;31m---------------------------------------------------------------------------\u001b[0m",
      "\u001b[1;31mNameError\u001b[0m                                 Traceback (most recent call last)",
      "\u001b[1;32m~\\AppData\\Local\\Temp/ipykernel_3660/1069372690.py\u001b[0m in \u001b[0;36m<module>\u001b[1;34m\u001b[0m\n\u001b[0;32m      7\u001b[0m \u001b[1;33m\u001b[0m\u001b[0m\n\u001b[0;32m      8\u001b[0m \u001b[1;31m# Initialize grid and boundary conditions\u001b[0m\u001b[1;33m\u001b[0m\u001b[1;33m\u001b[0m\u001b[0m\n\u001b[1;32m----> 9\u001b[1;33m \u001b[0mu\u001b[0m \u001b[1;33m=\u001b[0m \u001b[0mnp\u001b[0m\u001b[1;33m.\u001b[0m\u001b[0mzeros\u001b[0m\u001b[1;33m(\u001b[0m\u001b[1;33m(\u001b[0m\u001b[0mNy\u001b[0m\u001b[1;33m,\u001b[0m \u001b[0mNx\u001b[0m\u001b[1;33m)\u001b[0m\u001b[1;33m)\u001b[0m  \u001b[1;31m# Initialize grid with zeros\u001b[0m\u001b[1;33m\u001b[0m\u001b[1;33m\u001b[0m\u001b[0m\n\u001b[0m\u001b[0;32m     10\u001b[0m \u001b[1;33m\u001b[0m\u001b[0m\n\u001b[0;32m     11\u001b[0m \u001b[1;32mfor\u001b[0m \u001b[0mi\u001b[0m \u001b[1;32min\u001b[0m \u001b[0mrange\u001b[0m\u001b[1;33m(\u001b[0m\u001b[0mNx\u001b[0m\u001b[1;33m)\u001b[0m\u001b[1;33m:\u001b[0m\u001b[1;33m\u001b[0m\u001b[1;33m\u001b[0m\u001b[0m\n",
      "\u001b[1;31mNameError\u001b[0m: name 'np' is not defined"
     ]
    }
   ],
   "source": [
    "# Parameters\n",
    "Nx = Ny = 6  # Number of grid points in x and y directions\n",
    "Lx = 2\n",
    "Ly = 1  # Domain length\n",
    "dx = dy = Lx / (Nx - 1)  # Grid spacing\n",
    "h = Lx/(Nx+1)\n",
    "\n",
    "# Initialize grid and boundary conditions\n",
    "u = np.zeros((Ny, Nx))  # Initialize grid with zeros\n",
    "\n",
    "for i in range(Nx):\n",
    "    u[i,0] = g(i,0)  # u(x, 0) = x\n",
    "    u[i,Nx-1] = g(i,L)  # u(x, 1) = xe\n",
    "       \n",
    "for j in range(Ny):\n",
    "    u[0 , j] = g(0,j)\n",
    "    u[Ny-1 , j] = g(L,j)\n",
    "    \n",
    "    \n",
    "def solve_wave_eqn(u, max_iter=1000, tol=1e-6):\n",
    "    u1 = np.copy(u)\n",
    "    for k in range(max_iter):\n",
    "        u = np.copy(u1)\n",
    "        for i in range(0, Ny-1):\n",
    "            for j in range(0, Nx-1):\n",
    "                u1[i, j+1] = 2*u[i,j] - u[i,j-1] + dt*dt*(u[i+1,j]+u[i-1,j]-2*u[i,j])/(dx*dx)\n",
    "        if np.max(np.abs(u1 - u)) < tol:\n",
    "            break\n",
    "    return u1"
   ]
  },
  {
   "cell_type": "markdown",
   "id": "819b7496",
   "metadata": {},
   "source": [
    "# Matrices Inversion"
   ]
  },
  {
   "cell_type": "code",
   "execution_count": 6,
   "id": "c0decd57",
   "metadata": {},
   "outputs": [],
   "source": [
    "#Check if matrices are symmetric to use any of the methods below\n",
    "def SymmetricCheck(l):\n",
    "    c=0\n",
    "    for i in range(len(l)):\n",
    "        for j in range(len(l)):\n",
    "            if l[i][j]!=l[j][i]:\n",
    "                c=c+1\n",
    "    if c!=0:\n",
    "        return False\n",
    "    else:\n",
    "        return True"
   ]
  },
  {
   "cell_type": "markdown",
   "id": "80e3902e",
   "metadata": {},
   "source": [
    "1. Gauss-Jordan method"
   ]
  },
  {
   "cell_type": "code",
   "execution_count": 1,
   "id": "5d3c2610",
   "metadata": {},
   "outputs": [],
   "source": [
    "#Solving linear equation using Gauss-Jordan\n",
    "def Reduce(l,n):\n",
    "    c,flag,m,t=0,0,0,0\n",
    "    for i in range(n):\n",
    "        if l[i][i]==0:\n",
    "            c=1\n",
    "            while (i+c)<n and l[i+c][i]==0:\n",
    "                c=c+1\n",
    "            if (i+c)==n:\n",
    "                flag=1\n",
    "                break\n",
    "            j=i\n",
    "            l[j],l[j+c]=l[j+c],l[j]\n",
    "        for j in range(n):\n",
    "            if i!=j:\n",
    "                p=l[j][i]/l[i][i]\n",
    "                k=0\n",
    "                for k in range(n+1):\n",
    "                    l[j][k]=l[j][k]-p*l[i][k]\n",
    "    return flag\n",
    "\n",
    "def PrintSolutions(l, n, c):\n",
    "    print(\"Result is : \")\n",
    "    if (c == 2):\n",
    "        print(\"Infinite Solutions Exists\")\n",
    "    elif (c == 3):\n",
    "        print(\"No Solution Exists\")\n",
    "\n",
    "    # Printing the solution by dividing constants by\n",
    "    # their respective diagonal elements\n",
    "    else:\n",
    "        for i in range(n):\n",
    "            print(l[i][n] / l[i][i], end=\" \")"
   ]
  },
  {
   "cell_type": "code",
   "execution_count": 2,
   "id": "51fe8d34",
   "metadata": {},
   "outputs": [],
   "source": [
    "#Find inverse of matrix using gauss-jordan\n",
    "def InverseGJ(l):\n",
    "    for i in range(len(l)):\n",
    "        for j in range(len(l),2*len(l)):\n",
    "            if j==(i+len(l)):\n",
    "                l[i].append(1)\n",
    "            else:\n",
    "                l[i].append(0)\n",
    "    for i in range(len(l)-1,0,-1):\n",
    "        if l[i-1][0]<l[i][0]:\n",
    "            l[i-1],l[i]=l[i],l[i-1]\n",
    "            \n",
    "    for i in range(len(l)):\n",
    "        for j in range(len(l)):\n",
    "            if i!=j:\n",
    "                p=l[j][i]/l[i][i]\n",
    "                for k in range(2*len(l)):\n",
    "                    l[j][k]=l[j][k]-p*l[i][k]\n",
    "    for i in range(len(l)):\n",
    "        p=l[i][i]\n",
    "        for j in range(2*len(l)):\n",
    "            l[i][j]=l[i][j]/p\n",
    "\n",
    "    l_inv=[[0 for col in range(len(l))] for row in range(len(l))]\n",
    "    for i in range(len(l)):\n",
    "        for j in range(len(l),2*len(l)):\n",
    "            l_inv[i][j-len(l)]=l[i][j]\n",
    "    return l_inv"
   ]
  },
  {
   "cell_type": "markdown",
   "id": "c3532848",
   "metadata": {},
   "source": [
    "2. LU Decomposition"
   ]
  },
  {
   "cell_type": "code",
   "execution_count": 3,
   "id": "44a69d4f",
   "metadata": {},
   "outputs": [],
   "source": [
    "#returns lower and upper matrices\n",
    "def UandL(A):\n",
    "    u=[[0 for col in range(len(A))] for row in range(len(A))]\n",
    "    l=[[0 for col in range(len(A))] for row in range(len(A))]\n",
    "    for i in range(len(A)):\n",
    "        u[0][i]=A[0][i]\n",
    "        l[i][i]=1\n",
    "    for j in range(len(A)):\n",
    "        for i in range(1,j+1):\n",
    "            sum=0\n",
    "            for k in range(i):\n",
    "                sum=sum+(l[i][k])*(u[k][j])\n",
    "            u[i][j]=A[i][j]-sum\n",
    "\n",
    "        for i in range(j,len(A)):\n",
    "            sum=0\n",
    "            for k in range(j):\n",
    "                sum=sum+(l[i][k])*(u[k][j])\n",
    "            if u[j][j]==0:\n",
    "                continue\n",
    "            else:\n",
    "                l[i][j]=(A[i][j]-sum)/(u[j][j])\n",
    "    return u,l"
   ]
  },
  {
   "cell_type": "code",
   "execution_count": 4,
   "id": "95428e74",
   "metadata": {},
   "outputs": [],
   "source": [
    "#Find solutions of set of linear equations\n",
    "def LUForBack(l,U,L):\n",
    "    y=[0 for i in range(len(L))]\n",
    "    x=[0 for i in range(len(L))]\n",
    "    y[0]=l[0][len(l)]\n",
    "\n",
    "    #Solve for y from L.y=b using forward substitution\n",
    "    for i in range(1,len(L)):\n",
    "        sum=0\n",
    "        for j in range(i):\n",
    "            sum=sum+L[i][j]*y[j]\n",
    "        y[i]=(l[i][len(l)]-sum)/L[i][i]\n",
    "    x[len(L)-1]=y[len(L)-1]/U[len(L)-1][len(L)-1]\n",
    "    #Solve for x from U.x=y using backward substitution\n",
    "    for i in range(len(L)-2,-1,-1):\n",
    "        sum=0\n",
    "        for j in range(len(L)):\n",
    "            sum=sum+U[i][j]*x[j]\n",
    "        x[i]=(y[i]-sum)/U[i][i]\n",
    "    return(x)"
   ]
  },
  {
   "cell_type": "code",
   "execution_count": 5,
   "id": "95faea94",
   "metadata": {},
   "outputs": [],
   "source": [
    "def Determinant(l):\n",
    "    U,L = UandL(l)\n",
    "    detl=1\n",
    "    for i in range(len(U)):\n",
    "        detl= -1*detl*U[i][i]\n",
    "    return detl"
   ]
  },
  {
   "cell_type": "markdown",
   "id": "0f271ea0",
   "metadata": {},
   "source": [
    "  3. Cholesky Decomposition"
   ]
  },
  {
   "cell_type": "code",
   "execution_count": 7,
   "id": "0b24cbe2",
   "metadata": {},
   "outputs": [],
   "source": [
    "#Decomposition into L and L^T\n",
    "def Decomposition(l):\n",
    "    q=[[0 for col in range(len(l))] for row in range(len(l))]      \n",
    "    for i in range(len(l)):\n",
    "        for j in range(len(l)):\n",
    "            if i==j:\n",
    "                sum=0\n",
    "                for k in range(i):\n",
    "                    sum=sum+math.pow(q[k][i],2)\n",
    "                q[i][j]=math.sqrt(abs(l[i][j]-sum))\n",
    "            if i<j:\n",
    "                sum=0\n",
    "                for k in range(i):\n",
    "                    sum=sum+q[k][i]*q[k][j]\n",
    "                q[i][j]=(l[i][j]-sum)/q[i][i]\n",
    "    return q"
   ]
  },
  {
   "cell_type": "code",
   "execution_count": 8,
   "id": "a313299c",
   "metadata": {},
   "outputs": [],
   "source": [
    "def CholForBack(l,U):\n",
    "    y=[0 for i in range(len(U))]\n",
    "    x=[0 for i in range(len(U))]\n",
    "    y[0]=l[0][len(U)]/U[0][0]\n",
    "\n",
    "    #Solve for y from L.y=b using forward substitution\n",
    "    for i in range(1,len(U)):\n",
    "        sum=0\n",
    "        for j in range(i):\n",
    "            sum=sum+U[j][i]*y[j]\n",
    "        y[i]=(l[i][len(U)]-sum)/U[i][i]\n",
    "    x[len(U)-1]=y[len(U)-1]/U[len(U)-1][len(U)-1]\n",
    "    #Solve for x from U.x=y using backward substitution\n",
    "    for i in range(len(U)-2,-1,-1):\n",
    "        sum=0\n",
    "        for j in range(len(U)):\n",
    "            sum=sum+U[i][j]*x[j]\n",
    "        x[i]=(y[i]-sum)/U[i][i]\n",
    "    return x"
   ]
  },
  {
   "cell_type": "markdown",
   "id": "15fb4c86",
   "metadata": {},
   "source": [
    "4. Gauss-jacobi"
   ]
  },
  {
   "cell_type": "code",
   "execution_count": 9,
   "id": "cc841f67",
   "metadata": {},
   "outputs": [],
   "source": [
    "def checkDiagDom(l):\n",
    "    for i in range(len(l)-1):\n",
    "        sum=0\n",
    "        for j in range(len(l)-1):\n",
    "            if i!=j:\n",
    "                sum+=l[i][j]\n",
    "        if abs((l[i][i]))>abs(sum):\n",
    "            continue\n",
    "        else:\n",
    "            return False\n",
    "    return True"
   ]
  },
  {
   "cell_type": "code",
   "execution_count": 10,
   "id": "d30aaa1d",
   "metadata": {},
   "outputs": [],
   "source": [
    "def makeDiagDom(A):\n",
    "    for i in range(len(A)-1):\n",
    "        max=A[0][i]\n",
    "        t=i\n",
    "        for j in range(len(A)-1):\n",
    "            if abs(A[i][j])>abs(max):\n",
    "                max=A[i][j]\n",
    "                t=j\n",
    "        A[t],A[i]=A[i],A[t]\n",
    "    return A"
   ]
  },
  {
   "cell_type": "code",
   "execution_count": 11,
   "id": "3830b1c8",
   "metadata": {},
   "outputs": [],
   "source": [
    "def positiveDefCheck(l):\n",
    "    c=0\n",
    "    for i in range(4):\n",
    "        for j in range(4):\n",
    "            if l[i][j]!=l[j][i]:\n",
    "                c+=1\n",
    "    if c!=0:\n",
    "        print(\"Not symmetric hence not positive definite.\")\n",
    "        return False\n",
    "    else:\n",
    "        gj=Reduce(l,len(l))\n",
    "        print(gj)\n",
    "        c=0\n",
    "        for i in range(len(l)):\n",
    "            if l[i][i]<0:\n",
    "                c+=1\n",
    "        if c==0:\n",
    "            print(\"Positive definite\")\n",
    "            return True\n",
    "        \n",
    "        else:\n",
    "            print(\"Not positive definite\")\n",
    "            return False\n",
    "    print(l)"
   ]
  },
  {
   "cell_type": "code",
   "execution_count": 12,
   "id": "0da82c26",
   "metadata": {},
   "outputs": [],
   "source": [
    "def Jacobi(l):\n",
    "    e=0.000001 #initial guess and tolerance\n",
    "    x_k=[0 for i in range(len(l))]\n",
    "    x_k1=[0 for i in range(len(l))]\n",
    "    for i in range(len(l)):\n",
    "        x_k1[i] = l[i][len(l)-1]/l[i][i]\n",
    "    n=1\n",
    "    while (abs(x_k1[0]-x_k[0]))>e or (abs(x_k1[1]-x_k[1]))>e or (abs(x_k1[2]-x_k[2]))>e or (abs(x_k1[3]-x_k[3]))>e or (abs(x_k1[4]-x_k[4]))>e:\n",
    "        x_k[0],x_k[1],x_k[2],x_k[3],x_k[4]=x_k1[0],x_k1[1],x_k1[2],x_k1[3],x_k1[4]\n",
    "        for i in range(len(l)):\n",
    "            sum=0\n",
    "            for j in range(len(l)):\n",
    "                if i != j:\n",
    "                    p=l[i][j]\n",
    "                    sum = sum + p*x_k[j]\n",
    "            x_k1[i]=(l[i][len(l)]-sum)/l[i][i]\n",
    "        n+=1\n",
    "    return n,x_k1"
   ]
  },
  {
   "cell_type": "markdown",
   "id": "2b48b227",
   "metadata": {},
   "source": [
    "5. Gauss-Seidel"
   ]
  },
  {
   "cell_type": "code",
   "execution_count": 13,
   "id": "642bd942",
   "metadata": {},
   "outputs": [],
   "source": [
    "def GaussSeidel(l):\n",
    "    x_k=[0 for col in range(len(l))]\n",
    "    x_k1=[0 for col in range(len(l))]\n",
    "    e=0.000001#initial guess and tolerance\n",
    "    for i in range(len(l)):\n",
    "        sum=0\n",
    "        for j in range(i):\n",
    "            sum=sum+(l[i][j])*x_k[j]\n",
    "        x_k[i] = (l[i][(len(l))]-sum)/l[i][i]\n",
    "    n=0\n",
    "    while (abs(x_k1[0]-x_k[0]))>e or (abs(x_k1[1]-x_k[1]))>e or (abs(x_k1[2]-x_k[2]))>e or (abs(x_k1[3]-x_k[3]))>e or (abs(x_k1[4]-x_k[4]))>e:\n",
    "        x_k1[0],x_k1[1],x_k1[2],x_k1[3],x_k1[4]=x_k[0],x_k[1],x_k[2],x_k[3],x_k[4]\n",
    "        for i in range((len(l))):\n",
    "            sum1,sum2=0,0\n",
    "            for j in range(i):\n",
    "                sum1 = sum1 + (l[i][j])*x_k[j]\n",
    "            for m in range(i+1,(len(l))):\n",
    "                sum2 = sum2 + (l[i][m])*x_k[m]\n",
    "            x_k[i]=(l[i][(len(l))]-sum1-sum2)/l[i][i]\n",
    "        #print(x_k1)\n",
    "        n+=1\n",
    "    return n,x_k"
   ]
  },
  {
   "cell_type": "markdown",
   "id": "4c6ca8f6",
   "metadata": {},
   "source": [
    "6. Conjugative Gradient method"
   ]
  },
  {
   "cell_type": "code",
   "execution_count": 28,
   "id": "b5f781f5",
   "metadata": {},
   "outputs": [],
   "source": [
    "def conjugate_gradient(a,b,x,tolerance,iterations):\n",
    "    a=np.array(a)\n",
    "    b=np.array(b)\n",
    "    x=np.array(x)\n",
    "    # r is the direction of steepest descent\n",
    "    r=b-(a.dot(x))\n",
    "    R=r.copy()\n",
    "    #here R is the new residual for updating purpose\n",
    "    error=[]\n",
    "    itr=[]\n",
    "    for i in range(iterations):\n",
    "        aR=a.dot(R)\n",
    "        if np.dot(R, aR)==0:\n",
    "            break\n",
    "        alpha=np.dot(R, r)/np.dot(R, aR)\n",
    "        #alpha is similar to learning rate\n",
    "        x = x+ (alpha*R)\n",
    "        r=b-(a.dot(x))\n",
    "        error.append(np.sqrt(np.sum((r**2))))\n",
    "        itr.append(i)\n",
    "        if np.sqrt(np.sum((r**2))) < tolerance:\n",
    "            break\n",
    "        else:\n",
    "            beta= -np.dot(r,aR)/np.dot(R,aR)\n",
    "            R = r + (beta* R)\n",
    "    #returning solution x after the process\n",
    "    return x,error,itr"
   ]
  },
  {
   "cell_type": "code",
   "execution_count": 15,
   "id": "6bb3ba22",
   "metadata": {},
   "outputs": [],
   "source": [
    "def inverse_calculator(a, method,x,tolerance,iterations):\n",
    "    '''\n",
    "    x = initial guess of x\n",
    "    '''\n",
    "    n = len(a)\n",
    "    inv = np.zeros((len(a), len(a)))\n",
    "    #res_list_comb = []\n",
    "    for i in range(n):\n",
    "        b = [0.0 for i in range(n)]\n",
    "        b[i] = 1.0\n",
    "        X,err,itr = method(a, b, x,tolerance,iterations)\n",
    "        for j in range(1, len(b)):\n",
    "            inv[:, i] = X\n",
    "        #invT.append(X)\n",
    "        #invT=np.array(invT, dtype=np.double)\n",
    "        #res_list_comb.extend(res_list)\n",
    "    #inv = np.transpose(invT)\n",
    "    return inv,err,itr\n",
    "\n",
    "\n",
    "def inverse_calculator2(A, method,x,eps):\n",
    "    n = len(A)\n",
    "    inv = []\n",
    "    #res_list_comb = []\n",
    "    for i in range(n):\n",
    "        b = [0.0 for i in range(n)]\n",
    "        b[i] = 1\n",
    "        X,err,itr = method(A, b, x,eps)\n",
    "        inv.append(X)\n",
    "        #res_list_comb.extend(res_list)\n",
    "    inv = np.transpose(np.array(inv))\n",
    "    return inv,err,itr"
   ]
  },
  {
   "cell_type": "code",
   "execution_count": null,
   "id": "60c679f3",
   "metadata": {},
   "outputs": [],
   "source": []
  }
 ],
 "metadata": {
  "kernelspec": {
   "display_name": "Python 3 (ipykernel)",
   "language": "python",
   "name": "python3"
  },
  "language_info": {
   "codemirror_mode": {
    "name": "ipython",
    "version": 3
   },
   "file_extension": ".py",
   "mimetype": "text/x-python",
   "name": "python",
   "nbconvert_exporter": "python",
   "pygments_lexer": "ipython3",
   "version": "3.9.7"
  }
 },
 "nbformat": 4,
 "nbformat_minor": 5
}
